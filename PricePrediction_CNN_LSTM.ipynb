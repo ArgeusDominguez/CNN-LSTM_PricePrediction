{
  "nbformat": 4,
  "nbformat_minor": 0,
  "metadata": {
    "colab": {
      "name": "PricePrediction_CNN-LSTM.ipynb",
      "provenance": [],
      "collapsed_sections": []
    },
    "kernelspec": {
      "name": "python3",
      "display_name": "Python 3"
    },
    "language_info": {
      "name": "python"
    }
  },
  "cells": [
    {
      "cell_type": "markdown",
      "source": [
        "Base code taken from https://github.com/amanjain252002/Stock-Price-Prediction/blob/main/Deep_Learning_Model.ipynb"
      ],
      "metadata": {
        "id": "OqtPXhEk18C1"
      }
    },
    {
      "cell_type": "code",
      "source": [
        "!pip install yfinance"
      ],
      "metadata": {
        "id": "f3WP8FDtxzwc",
        "colab": {
          "base_uri": "https://localhost:8080/"
        },
        "outputId": "a10425cd-2c0d-48ba-8fc8-a3b9dfe5b031"
      },
      "execution_count": 162,
      "outputs": [
        {
          "output_type": "stream",
          "name": "stdout",
          "text": [
            "Requirement already satisfied: yfinance in /usr/local/lib/python3.7/dist-packages (0.1.70)\n",
            "Requirement already satisfied: numpy>=1.15 in /usr/local/lib/python3.7/dist-packages (from yfinance) (1.21.6)\n",
            "Requirement already satisfied: requests>=2.26 in /usr/local/lib/python3.7/dist-packages (from yfinance) (2.27.1)\n",
            "Requirement already satisfied: multitasking>=0.0.7 in /usr/local/lib/python3.7/dist-packages (from yfinance) (0.0.10)\n",
            "Requirement already satisfied: lxml>=4.5.1 in /usr/local/lib/python3.7/dist-packages (from yfinance) (4.8.0)\n",
            "Requirement already satisfied: pandas>=0.24.0 in /usr/local/lib/python3.7/dist-packages (from yfinance) (1.3.5)\n",
            "Requirement already satisfied: python-dateutil>=2.7.3 in /usr/local/lib/python3.7/dist-packages (from pandas>=0.24.0->yfinance) (2.8.2)\n",
            "Requirement already satisfied: pytz>=2017.3 in /usr/local/lib/python3.7/dist-packages (from pandas>=0.24.0->yfinance) (2022.1)\n",
            "Requirement already satisfied: six>=1.5 in /usr/local/lib/python3.7/dist-packages (from python-dateutil>=2.7.3->pandas>=0.24.0->yfinance) (1.15.0)\n",
            "Requirement already satisfied: urllib3<1.27,>=1.21.1 in /usr/local/lib/python3.7/dist-packages (from requests>=2.26->yfinance) (1.24.3)\n",
            "Requirement already satisfied: idna<4,>=2.5 in /usr/local/lib/python3.7/dist-packages (from requests>=2.26->yfinance) (2.10)\n",
            "Requirement already satisfied: charset-normalizer~=2.0.0 in /usr/local/lib/python3.7/dist-packages (from requests>=2.26->yfinance) (2.0.12)\n",
            "Requirement already satisfied: certifi>=2017.4.17 in /usr/local/lib/python3.7/dist-packages (from requests>=2.26->yfinance) (2021.10.8)\n"
          ]
        }
      ]
    },
    {
      "cell_type": "code",
      "source": [
        "import yfinance as yf"
      ],
      "metadata": {
        "id": "_fxCUBbZyNwi"
      },
      "execution_count": 163,
      "outputs": []
    },
    {
      "cell_type": "code",
      "source": [
        "import re\n",
        "import requests\n",
        "import datetime as dt\n",
        "import pandas as pd\n",
        "import matplotlib.pyplot as plt\n",
        "import numpy as np\n",
        "import math\n",
        "import tensorflow as tf\n",
        "from sklearn.metrics import mean_squared_error, mean_absolute_error\n",
        "\n",
        "import warnings\n",
        "warnings.filterwarnings('ignore')\n",
        "from google.colab import files"
      ],
      "metadata": {
        "id": "O-FKPGfJ1thb"
      },
      "execution_count": 164,
      "outputs": []
    },
    {
      "cell_type": "code",
      "source": [
        "# import datetime\n",
        "stockDataObjs = []\n",
        "startTime = \"2016-01-01\"\n",
        "endTime = \"2019-08-22\"\n",
        "\n",
        "'''\n",
        "for stockName in ['AAPL']:\n",
        "    stockObj = StockData(stockName)\n",
        "    stockDataObjs.append(stockObj)\n",
        "\n",
        "\n",
        "for info in stockDataObjs:\n",
        "    print(info.stock)\n",
        "    print(info.getPrice(startTime, endTime))\n",
        "'''\n",
        "AAPLStock = yf.download(\"AAPL\", start=startTime, end=endTime)\n",
        "print(AAPLStock)"
      ],
      "metadata": {
        "id": "EikUAMRJym28",
        "colab": {
          "base_uri": "https://localhost:8080/"
        },
        "outputId": "6c023ee8-fee2-4ac1-8434-1ec871aea6c3"
      },
      "execution_count": 165,
      "outputs": [
        {
          "output_type": "stream",
          "name": "stdout",
          "text": [
            "\r[*********************100%***********************]  1 of 1 completed\n",
            "                 Open       High        Low      Close  Adj Close     Volume\n",
            "Date                                                                        \n",
            "2016-01-04  25.652500  26.342501  25.500000  26.337500  24.220581  270597600\n",
            "2016-01-05  26.437500  26.462500  25.602501  25.677500  23.613625  223164000\n",
            "2016-01-06  25.139999  25.592501  24.967501  25.174999  23.151516  273829600\n",
            "2016-01-07  24.670000  25.032499  24.107500  24.112499  22.174412  324377600\n",
            "2016-01-08  24.637501  24.777500  24.190001  24.240000  22.291664  283192000\n",
            "...               ...        ...        ...        ...        ...        ...\n",
            "2019-08-15  50.865002  51.285000  49.917500  50.435001  49.485004  108909600\n",
            "2019-08-16  51.070000  51.790001  50.959999  51.625000  50.652576  110481600\n",
            "2019-08-19  52.654999  53.182499  52.507500  52.587502  51.596954   97654400\n",
            "2019-08-20  52.720001  53.337502  52.580002  52.590000  51.599407  107537200\n",
            "2019-08-21  53.247501  53.412498  52.900002  53.160000  52.158672   86141600\n",
            "\n",
            "[915 rows x 6 columns]\n"
          ]
        }
      ]
    },
    {
      "cell_type": "code",
      "source": [
        "#make 'Date' a column instead of using it as index\n",
        "AAPL = AAPLStock.reset_index(level=0)\n",
        "AAPL.info()"
      ],
      "metadata": {
        "colab": {
          "base_uri": "https://localhost:8080/"
        },
        "id": "Z6lpj2_vOg7-",
        "outputId": "749a643f-f948-434c-d656-cfb0db2430b5"
      },
      "execution_count": 166,
      "outputs": [
        {
          "output_type": "stream",
          "name": "stdout",
          "text": [
            "<class 'pandas.core.frame.DataFrame'>\n",
            "RangeIndex: 915 entries, 0 to 914\n",
            "Data columns (total 7 columns):\n",
            " #   Column     Non-Null Count  Dtype         \n",
            "---  ------     --------------  -----         \n",
            " 0   Date       915 non-null    datetime64[ns]\n",
            " 1   Open       915 non-null    float64       \n",
            " 2   High       915 non-null    float64       \n",
            " 3   Low        915 non-null    float64       \n",
            " 4   Close      915 non-null    float64       \n",
            " 5   Adj Close  915 non-null    float64       \n",
            " 6   Volume     915 non-null    int64         \n",
            "dtypes: datetime64[ns](1), float64(5), int64(1)\n",
            "memory usage: 50.2 KB\n"
          ]
        }
      ]
    },
    {
      "cell_type": "code",
      "source": [
        "# Drop NULL rows\n",
        "AAPL.dropna(inplace = True)\n",
        "# Change Dtype of Columns\n",
        "AAPL = AAPL.astype({\"Volume\": float})\n",
        "# Sort the Database by Date\n",
        "AAPL = AAPL.sort_values(by = 'Date', ignore_index = True)\n",
        "AAPL.describe()\n"
      ],
      "metadata": {
        "colab": {
          "base_uri": "https://localhost:8080/",
          "height": 300
        },
        "id": "HG8Sgg77UCAy",
        "outputId": "4b0ffdb4-b333-48c2-a856-b8b284830b1a"
      },
      "execution_count": 167,
      "outputs": [
        {
          "output_type": "execute_result",
          "data": {
            "text/plain": [
              "             Open        High         Low       Close   Adj Close  \\\n",
              "count  915.000000  915.000000  915.000000  915.000000  915.000000   \n",
              "mean    38.719530   39.064333   38.400202   38.744118   37.032481   \n",
              "std      9.545215    9.650977    9.444527    9.543119    9.641933   \n",
              "min     22.500000   22.917500   22.367500   22.584999   21.009533   \n",
              "25%     28.821250   29.066250   28.602500   28.926250   27.103474   \n",
              "50%     39.625000   39.990002   39.167500   39.465000   37.884853   \n",
              "75%     46.299999   46.782501   45.926250   46.357500   44.709902   \n",
              "max     57.695000   58.367500   57.445000   58.017502   56.054832   \n",
              "\n",
              "             Volume  \n",
              "count  9.150000e+02  \n",
              "mean   1.299260e+08  \n",
              "std    5.900821e+07  \n",
              "min    4.544800e+07  \n",
              "25%    9.101900e+07  \n",
              "50%    1.135284e+08  \n",
              "75%    1.502560e+08  \n",
              "max    5.334788e+08  "
            ],
            "text/html": [
              "\n",
              "  <div id=\"df-f5badda1-fa6b-4761-87a8-ebc1c8a9b832\">\n",
              "    <div class=\"colab-df-container\">\n",
              "      <div>\n",
              "<style scoped>\n",
              "    .dataframe tbody tr th:only-of-type {\n",
              "        vertical-align: middle;\n",
              "    }\n",
              "\n",
              "    .dataframe tbody tr th {\n",
              "        vertical-align: top;\n",
              "    }\n",
              "\n",
              "    .dataframe thead th {\n",
              "        text-align: right;\n",
              "    }\n",
              "</style>\n",
              "<table border=\"1\" class=\"dataframe\">\n",
              "  <thead>\n",
              "    <tr style=\"text-align: right;\">\n",
              "      <th></th>\n",
              "      <th>Open</th>\n",
              "      <th>High</th>\n",
              "      <th>Low</th>\n",
              "      <th>Close</th>\n",
              "      <th>Adj Close</th>\n",
              "      <th>Volume</th>\n",
              "    </tr>\n",
              "  </thead>\n",
              "  <tbody>\n",
              "    <tr>\n",
              "      <th>count</th>\n",
              "      <td>915.000000</td>\n",
              "      <td>915.000000</td>\n",
              "      <td>915.000000</td>\n",
              "      <td>915.000000</td>\n",
              "      <td>915.000000</td>\n",
              "      <td>9.150000e+02</td>\n",
              "    </tr>\n",
              "    <tr>\n",
              "      <th>mean</th>\n",
              "      <td>38.719530</td>\n",
              "      <td>39.064333</td>\n",
              "      <td>38.400202</td>\n",
              "      <td>38.744118</td>\n",
              "      <td>37.032481</td>\n",
              "      <td>1.299260e+08</td>\n",
              "    </tr>\n",
              "    <tr>\n",
              "      <th>std</th>\n",
              "      <td>9.545215</td>\n",
              "      <td>9.650977</td>\n",
              "      <td>9.444527</td>\n",
              "      <td>9.543119</td>\n",
              "      <td>9.641933</td>\n",
              "      <td>5.900821e+07</td>\n",
              "    </tr>\n",
              "    <tr>\n",
              "      <th>min</th>\n",
              "      <td>22.500000</td>\n",
              "      <td>22.917500</td>\n",
              "      <td>22.367500</td>\n",
              "      <td>22.584999</td>\n",
              "      <td>21.009533</td>\n",
              "      <td>4.544800e+07</td>\n",
              "    </tr>\n",
              "    <tr>\n",
              "      <th>25%</th>\n",
              "      <td>28.821250</td>\n",
              "      <td>29.066250</td>\n",
              "      <td>28.602500</td>\n",
              "      <td>28.926250</td>\n",
              "      <td>27.103474</td>\n",
              "      <td>9.101900e+07</td>\n",
              "    </tr>\n",
              "    <tr>\n",
              "      <th>50%</th>\n",
              "      <td>39.625000</td>\n",
              "      <td>39.990002</td>\n",
              "      <td>39.167500</td>\n",
              "      <td>39.465000</td>\n",
              "      <td>37.884853</td>\n",
              "      <td>1.135284e+08</td>\n",
              "    </tr>\n",
              "    <tr>\n",
              "      <th>75%</th>\n",
              "      <td>46.299999</td>\n",
              "      <td>46.782501</td>\n",
              "      <td>45.926250</td>\n",
              "      <td>46.357500</td>\n",
              "      <td>44.709902</td>\n",
              "      <td>1.502560e+08</td>\n",
              "    </tr>\n",
              "    <tr>\n",
              "      <th>max</th>\n",
              "      <td>57.695000</td>\n",
              "      <td>58.367500</td>\n",
              "      <td>57.445000</td>\n",
              "      <td>58.017502</td>\n",
              "      <td>56.054832</td>\n",
              "      <td>5.334788e+08</td>\n",
              "    </tr>\n",
              "  </tbody>\n",
              "</table>\n",
              "</div>\n",
              "      <button class=\"colab-df-convert\" onclick=\"convertToInteractive('df-f5badda1-fa6b-4761-87a8-ebc1c8a9b832')\"\n",
              "              title=\"Convert this dataframe to an interactive table.\"\n",
              "              style=\"display:none;\">\n",
              "        \n",
              "  <svg xmlns=\"http://www.w3.org/2000/svg\" height=\"24px\"viewBox=\"0 0 24 24\"\n",
              "       width=\"24px\">\n",
              "    <path d=\"M0 0h24v24H0V0z\" fill=\"none\"/>\n",
              "    <path d=\"M18.56 5.44l.94 2.06.94-2.06 2.06-.94-2.06-.94-.94-2.06-.94 2.06-2.06.94zm-11 1L8.5 8.5l.94-2.06 2.06-.94-2.06-.94L8.5 2.5l-.94 2.06-2.06.94zm10 10l.94 2.06.94-2.06 2.06-.94-2.06-.94-.94-2.06-.94 2.06-2.06.94z\"/><path d=\"M17.41 7.96l-1.37-1.37c-.4-.4-.92-.59-1.43-.59-.52 0-1.04.2-1.43.59L10.3 9.45l-7.72 7.72c-.78.78-.78 2.05 0 2.83L4 21.41c.39.39.9.59 1.41.59.51 0 1.02-.2 1.41-.59l7.78-7.78 2.81-2.81c.8-.78.8-2.07 0-2.86zM5.41 20L4 18.59l7.72-7.72 1.47 1.35L5.41 20z\"/>\n",
              "  </svg>\n",
              "      </button>\n",
              "      \n",
              "  <style>\n",
              "    .colab-df-container {\n",
              "      display:flex;\n",
              "      flex-wrap:wrap;\n",
              "      gap: 12px;\n",
              "    }\n",
              "\n",
              "    .colab-df-convert {\n",
              "      background-color: #E8F0FE;\n",
              "      border: none;\n",
              "      border-radius: 50%;\n",
              "      cursor: pointer;\n",
              "      display: none;\n",
              "      fill: #1967D2;\n",
              "      height: 32px;\n",
              "      padding: 0 0 0 0;\n",
              "      width: 32px;\n",
              "    }\n",
              "\n",
              "    .colab-df-convert:hover {\n",
              "      background-color: #E2EBFA;\n",
              "      box-shadow: 0px 1px 2px rgba(60, 64, 67, 0.3), 0px 1px 3px 1px rgba(60, 64, 67, 0.15);\n",
              "      fill: #174EA6;\n",
              "    }\n",
              "\n",
              "    [theme=dark] .colab-df-convert {\n",
              "      background-color: #3B4455;\n",
              "      fill: #D2E3FC;\n",
              "    }\n",
              "\n",
              "    [theme=dark] .colab-df-convert:hover {\n",
              "      background-color: #434B5C;\n",
              "      box-shadow: 0px 1px 3px 1px rgba(0, 0, 0, 0.15);\n",
              "      filter: drop-shadow(0px 1px 2px rgba(0, 0, 0, 0.3));\n",
              "      fill: #FFFFFF;\n",
              "    }\n",
              "  </style>\n",
              "\n",
              "      <script>\n",
              "        const buttonEl =\n",
              "          document.querySelector('#df-f5badda1-fa6b-4761-87a8-ebc1c8a9b832 button.colab-df-convert');\n",
              "        buttonEl.style.display =\n",
              "          google.colab.kernel.accessAllowed ? 'block' : 'none';\n",
              "\n",
              "        async function convertToInteractive(key) {\n",
              "          const element = document.querySelector('#df-f5badda1-fa6b-4761-87a8-ebc1c8a9b832');\n",
              "          const dataTable =\n",
              "            await google.colab.kernel.invokeFunction('convertToInteractive',\n",
              "                                                     [key], {});\n",
              "          if (!dataTable) return;\n",
              "\n",
              "          const docLinkHtml = 'Like what you see? Visit the ' +\n",
              "            '<a target=\"_blank\" href=https://colab.research.google.com/notebooks/data_table.ipynb>data table notebook</a>'\n",
              "            + ' to learn more about interactive tables.';\n",
              "          element.innerHTML = '';\n",
              "          dataTable['output_type'] = 'display_data';\n",
              "          await google.colab.output.renderOutput(dataTable, element);\n",
              "          const docLink = document.createElement('div');\n",
              "          docLink.innerHTML = docLinkHtml;\n",
              "          element.appendChild(docLink);\n",
              "        }\n",
              "      </script>\n",
              "    </div>\n",
              "  </div>\n",
              "  "
            ]
          },
          "metadata": {},
          "execution_count": 167
        }
      ]
    },
    {
      "cell_type": "code",
      "source": [
        "csv = AAPL.to_csv('AAPL_data.csv')\n",
        "\n",
        "AAPL.info()\n",
        "\n",
        "#files.download('AAPL_data.csv')"
      ],
      "metadata": {
        "id": "MuIZx_C_PeLE",
        "colab": {
          "base_uri": "https://localhost:8080/"
        },
        "outputId": "a55f0918-0927-4ad3-f296-b95d01e9fefb"
      },
      "execution_count": 168,
      "outputs": [
        {
          "output_type": "stream",
          "name": "stdout",
          "text": [
            "<class 'pandas.core.frame.DataFrame'>\n",
            "RangeIndex: 915 entries, 0 to 914\n",
            "Data columns (total 7 columns):\n",
            " #   Column     Non-Null Count  Dtype         \n",
            "---  ------     --------------  -----         \n",
            " 0   Date       915 non-null    datetime64[ns]\n",
            " 1   Open       915 non-null    float64       \n",
            " 2   High       915 non-null    float64       \n",
            " 3   Low        915 non-null    float64       \n",
            " 4   Close      915 non-null    float64       \n",
            " 5   Adj Close  915 non-null    float64       \n",
            " 6   Volume     915 non-null    float64       \n",
            "dtypes: datetime64[ns](1), float64(6)\n",
            "memory usage: 50.2 KB\n"
          ]
        }
      ]
    },
    {
      "cell_type": "code",
      "source": [
        "def Dataset(Data, Date):\n",
        "\n",
        "  Train_Data = Data['Adj Close'][Data['Date'] < Date].to_numpy()\n",
        "  Data_Train = []\n",
        "  Data_Train_X = []\n",
        "  Data_Train_Y = []\n",
        "  for i in range(0, len(Train_Data), 5):\n",
        "    try:\n",
        "      Data_Train.append(Train_Data[i : i + 5])\n",
        "    except:\n",
        "      pass\n",
        "\n",
        "  if len(Data_Train[-1]) < 5:\n",
        "    Data_Train.pop(-1)\n",
        "  \n",
        "  Data_Train_X = Data_Train[0 : -1]\n",
        "  Data_Train_X = np.array(Data_Train_X)\n",
        "  Data_Train_X = Data_Train_X.reshape((-1, 5, 1))\n",
        "  Data_Train_Y = Data_Train[1 : len(Data_Train)]\n",
        "  Data_Train_Y = np.array(Data_Train_Y)\n",
        "  Data_Train_Y = Data_Train_Y.reshape((-1, 5, 1))\n",
        "\n",
        "\n",
        "  Test_Data = Data['Adj Close'][Data['Date'] >= Date].to_numpy()\n",
        "  Data_Test = []\n",
        "  Data_Test_X = []\n",
        "  Data_Test_Y = []\n",
        "  for i in range(0, len(Test_Data), 5):\n",
        "    try:\n",
        "      Data_Test.append(Test_Data[i : i + 5])\n",
        "    except:\n",
        "      pass\n",
        "\n",
        "  if len(Data_Test[-1]) < 5:\n",
        "    Data_Test.pop(-1)\n",
        "  \n",
        "  Data_Test_X = Data_Test[0 : -1]\n",
        "  Data_Test_X = np.array(Data_Test_X)\n",
        "  Data_Test_X = Data_Test_X.reshape((-1, 5, 1))\n",
        "  Data_Test_Y = Data_Test[1 : len(Data_Test)]\n",
        "  Data_Test_Y = np.array(Data_Test_Y)\n",
        "  Data_Test_Y = Data_Test_Y.reshape((-1, 5, 1))\n",
        "\n",
        "  return Data_Train_X, Data_Train_Y, Data_Test_X, Data_Test_Y"
      ],
      "metadata": {
        "id": "SaLB0-jhRUwa"
      },
      "execution_count": 169,
      "outputs": []
    },
    {
      "cell_type": "code",
      "source": [
        "def ModelLSTM():\n",
        "    model = tf.keras.models.Sequential([\n",
        "                                      tf.keras.layers.LSTM(200, input_shape = (5, 1), activation = tf.nn.leaky_relu, return_sequences = True),\n",
        "                                      tf.keras.layers.LSTM(200, activation = tf.nn.leaky_relu),\n",
        "                                      tf.keras.layers.Dense(200, activation = tf.nn.leaky_relu),\n",
        "                                      tf.keras.layers.Dense(100, activation = tf.nn.leaky_relu),\n",
        "                                      tf.keras.layers.Dense(50, activation = tf.nn.leaky_relu),\n",
        "                                      tf.keras.layers.Dense(5, activation = tf.nn.leaky_relu)\n",
        "                                      ])\n",
        "    return model\n",
        "\n",
        "def ModelCNN():\n",
        "    model = tf.keras.models.Sequential([\n",
        "                                      tf.keras.layers.Conv1D(200,1,input_shape=(5,1),activation = tf.nn.leaky_relu),\n",
        "                                      tf.keras.layers.MaxPooling1D(1,1),\n",
        "                                      tf.keras.layers.LSTM(200, activation = tf.nn.leaky_relu),\n",
        "                                      tf.keras.layers.Dense(200, activation = tf.nn.leaky_relu),\n",
        "                                      tf.keras.layers.Dense(50, activation = tf.nn.leaky_relu),\n",
        "                                      tf.keras.layers.Dense(5, activation = tf.nn.leaky_relu)\n",
        "                                      ])\n",
        "    return model"
      ],
      "metadata": {
        "id": "vgZPBG5RRjGc"
      },
      "execution_count": 170,
      "outputs": []
    },
    {
      "cell_type": "code",
      "source": [
        "model = ModelCNN()"
      ],
      "metadata": {
        "id": "ZVzGUbZ3Rtwy"
      },
      "execution_count": 171,
      "outputs": []
    },
    {
      "cell_type": "code",
      "source": [
        "tf.keras.utils.plot_model(model, show_shapes=True)"
      ],
      "metadata": {
        "colab": {
          "base_uri": "https://localhost:8080/",
          "height": 754
        },
        "id": "VuLx4rs7Ru2m",
        "outputId": "6b75c711-bf93-457f-e121-cf0ae7c337f6"
      },
      "execution_count": 172,
      "outputs": [
        {
          "output_type": "execute_result",
          "data": {
            "text/plain": [
              "<IPython.core.display.Image object>"
            ],
            "image/png": "[encoded data removed]"
          },
          "metadata": {},
          "execution_count": 172
        }
      ]
    },
    {
      "cell_type": "code",
      "source": [
        "model.summary()"
      ],
      "metadata": {
        "colab": {
          "base_uri": "https://localhost:8080/"
        },
        "id": "Y50cS4TNR0JB",
        "outputId": "b6fce01d-83ca-4206-fe75-cc533cb41c6d"
      },
      "execution_count": 173,
      "outputs": [
        {
          "output_type": "stream",
          "name": "stdout",
          "text": [
            "Model: \"sequential_16\"\n",
            "_________________________________________________________________\n",
            " Layer (type)                Output Shape              Param #   \n",
            "=================================================================\n",
            " conv1d_12 (Conv1D)          (None, 5, 200)            400       \n",
            "                                                                 \n",
            " max_pooling1d_12 (MaxPoolin  (None, 5, 200)           0         \n",
            " g1D)                                                            \n",
            "                                                                 \n",
            " lstm_20 (LSTM)              (None, 200)               320800    \n",
            "                                                                 \n",
            " dense_30 (Dense)            (None, 200)               40200     \n",
            "                                                                 \n",
            " dense_31 (Dense)            (None, 50)                10050     \n",
            "                                                                 \n",
            " dense_32 (Dense)            (None, 5)                 255       \n",
            "                                                                 \n",
            "=================================================================\n",
            "Total params: 371,705\n",
            "Trainable params: 371,705\n",
            "Non-trainable params: 0\n",
            "_________________________________________________________________\n"
          ]
        }
      ]
    },
    {
      "cell_type": "code",
      "source": [
        "def scheduler(epoch):\n",
        "  \n",
        "  if epoch <= 150:\n",
        "    lrate = (10 ** -5) * (epoch / 150) \n",
        "  elif epoch <= 400:\n",
        "    initial_lrate = (10 ** -5)\n",
        "    k = 0.01\n",
        "    lrate = initial_lrate * math.exp(-k * (epoch - 150))\n",
        "  else:\n",
        "    lrate = (10 ** -6)\n",
        "  \n",
        "  return lrate"
      ],
      "metadata": {
        "id": "Q7pwb8QJR5_x"
      },
      "execution_count": 174,
      "outputs": []
    },
    {
      "cell_type": "code",
      "source": [
        "epochs = [i for i in range(1, 1001, 1)]\n",
        "lrate = [scheduler(i) for i in range(1, 1001, 1)]\n",
        "plt.plot(epochs, lrate)"
      ],
      "metadata": {
        "colab": {
          "base_uri": "https://localhost:8080/",
          "height": 293
        },
        "id": "_iNS_59HR7av",
        "outputId": "8316a802-6f21-4003-c9fa-86fdb7963344"
      },
      "execution_count": 175,
      "outputs": [
        {
          "output_type": "execute_result",
          "data": {
            "text/plain": [
              "[<matplotlib.lines.Line2D at 0x7ff729690690>]"
            ]
          },
          "metadata": {},
          "execution_count": 175
        },
        {
          "output_type": "display_data",
          "data": {
            "text/plain": [
              "<Figure size 432x288 with 1 Axes>"
            ],
            "image/png": "[encoded data removed]"
          },
          "metadata": {
            "needs_background": "light"
          }
        }
      ]
    },
    {
      "cell_type": "code",
      "source": [
        "callback = tf.keras.callbacks.LearningRateScheduler(scheduler)"
      ],
      "metadata": {
        "id": "i0ERqnPDSEwM"
      },
      "execution_count": 176,
      "outputs": []
    },
    {
      "cell_type": "code",
      "source": [
        "# Change Dtype of Date column\n",
        "AAPL[\"Date\"] = pd.to_datetime(AAPL[\"Date\"])"
      ],
      "metadata": {
        "id": "pLfKmZEoS9NV"
      },
      "execution_count": 177,
      "outputs": []
    },
    {
      "cell_type": "code",
      "source": [
        "AAPL_Date = '2019-04-01'\n",
        "AAPL_Train_X, AAPL_Train_Y, AAPL_Test_X, AAPL_Test_Y = Dataset(AAPL, AAPL_Date)"
      ],
      "metadata": {
        "id": "6_-LGR4JT_LE"
      },
      "execution_count": 178,
      "outputs": []
    },
    {
      "cell_type": "code",
      "source": [
        "AAPL_Model = ModelCNN()"
      ],
      "metadata": {
        "id": "mspkTODjU3Yx"
      },
      "execution_count": 179,
      "outputs": []
    },
    {
      "cell_type": "code",
      "source": [
        "AAPL_Model.compile(optimizer = tf.keras.optimizers.Adam(), loss = 'mse', metrics = tf.keras.metrics.RootMeanSquaredError())"
      ],
      "metadata": {
        "id": "yBth0gR4U4y9"
      },
      "execution_count": 180,
      "outputs": []
    },
    {
      "cell_type": "code",
      "source": [
        "AAPL_hist = AAPL_Model.fit(AAPL_Train_X, AAPL_Train_Y, epochs = 200, validation_data = (AAPL_Test_X, AAPL_Test_Y), callbacks=[callback])"
      ],
      "metadata": {
        "colab": {
          "base_uri": "https://localhost:8080/"
        },
        "id": "fa4oeAslU8Ay",
        "outputId": "3ff00af4-4e16-477b-9db1-afbec1abb74b"
      },
      "execution_count": 181,
      "outputs": [
        {
          "output_type": "stream",
          "name": "stdout",
          "text": [
            "Epoch 1/200\n",
            "6/6 [==============================] - 4s 143ms/step - loss: 1296.4982 - root_mean_squared_error: 36.0069 - val_loss: 2245.9644 - val_root_mean_squared_error: 47.3916 - lr: 0.0000e+00\n",
            "Epoch 2/200\n",
            "6/6 [==============================] - 0s 44ms/step - loss: 1296.4730 - root_mean_squared_error: 36.0066 - val_loss: 2245.8276 - val_root_mean_squared_error: 47.3902 - lr: 6.6667e-08\n",
            "Epoch 3/200\n",
            "6/6 [==============================] - 0s 37ms/step - loss: 1296.3694 - root_mean_squared_error: 36.0051 - val_loss: 2245.5593 - val_root_mean_squared_error: 47.3873 - lr: 1.3333e-07\n",
            "Epoch 4/200\n",
            "6/6 [==============================] - 0s 44ms/step - loss: 1296.1959 - root_mean_squared_error: 36.0027 - val_loss: 2245.1394 - val_root_mean_squared_error: 47.3829 - lr: 2.0000e-07\n",
            "Epoch 5/200\n",
            "6/6 [==============================] - 0s 46ms/step - loss: 1295.9409 - root_mean_squared_error: 35.9992 - val_loss: 2244.5813 - val_root_mean_squared_error: 47.3770 - lr: 2.6667e-07\n",
            "Epoch 6/200\n",
            "6/6 [==============================] - 0s 41ms/step - loss: 1295.6248 - root_mean_squared_error: 35.9948 - val_loss: 2243.8982 - val_root_mean_squared_error: 47.3698 - lr: 3.3333e-07\n",
            "Epoch 7/200\n",
            "6/6 [==============================] - 0s 47ms/step - loss: 1295.2258 - root_mean_squared_error: 35.9892 - val_loss: 2243.0891 - val_root_mean_squared_error: 47.3613 - lr: 4.0000e-07\n",
            "Epoch 8/200\n",
            "6/6 [==============================] - 0s 41ms/step - loss: 1294.7600 - root_mean_squared_error: 35.9828 - val_loss: 2242.1345 - val_root_mean_squared_error: 47.3512 - lr: 4.6667e-07\n",
            "Epoch 9/200\n",
            "6/6 [==============================] - 0s 45ms/step - loss: 1294.2135 - root_mean_squared_error: 35.9752 - val_loss: 2241.0154 - val_root_mean_squared_error: 47.3394 - lr: 5.3333e-07\n",
            "Epoch 10/200\n",
            "6/6 [==============================] - 0s 58ms/step - loss: 1293.5930 - root_mean_squared_error: 35.9666 - val_loss: 2239.7290 - val_root_mean_squared_error: 47.3258 - lr: 6.0000e-07\n",
            "Epoch 11/200\n",
            "6/6 [==============================] - 0s 51ms/step - loss: 1292.8644 - root_mean_squared_error: 35.9564 - val_loss: 2238.3208 - val_root_mean_squared_error: 47.3109 - lr: 6.6667e-07\n",
            "Epoch 12/200\n",
            "6/6 [==============================] - 0s 55ms/step - loss: 1292.0853 - root_mean_squared_error: 35.9456 - val_loss: 2236.8425 - val_root_mean_squared_error: 47.2953 - lr: 7.3333e-07\n",
            "Epoch 13/200\n",
            "6/6 [==============================] - 0s 49ms/step - loss: 1291.2458 - root_mean_squared_error: 35.9339 - val_loss: 2235.1633 - val_root_mean_squared_error: 47.2775 - lr: 8.0000e-07\n",
            "Epoch 14/200\n",
            "6/6 [==============================] - 0s 67ms/step - loss: 1290.3002 - root_mean_squared_error: 35.9207 - val_loss: 2233.3909 - val_root_mean_squared_error: 47.2588 - lr: 8.6667e-07\n",
            "Epoch 15/200\n",
            "6/6 [==============================] - 0s 63ms/step - loss: 1289.3016 - root_mean_squared_error: 35.9068 - val_loss: 2231.4946 - val_root_mean_squared_error: 47.2387 - lr: 9.3333e-07\n",
            "Epoch 16/200\n",
            "6/6 [==============================] - 0s 71ms/step - loss: 1288.2015 - root_mean_squared_error: 35.8915 - val_loss: 2229.3938 - val_root_mean_squared_error: 47.2165 - lr: 1.0000e-06\n",
            "Epoch 17/200\n",
            "6/6 [==============================] - 1s 89ms/step - loss: 1286.9861 - root_mean_squared_error: 35.8746 - val_loss: 2227.1570 - val_root_mean_squared_error: 47.1928 - lr: 1.0667e-06\n",
            "Epoch 18/200\n",
            "6/6 [==============================] - 0s 69ms/step - loss: 1285.7147 - root_mean_squared_error: 35.8569 - val_loss: 2224.7559 - val_root_mean_squared_error: 47.1673 - lr: 1.1333e-06\n",
            "Epoch 19/200\n",
            "6/6 [==============================] - 0s 68ms/step - loss: 1284.3069 - root_mean_squared_error: 35.8372 - val_loss: 2222.2402 - val_root_mean_squared_error: 47.1406 - lr: 1.2000e-06\n",
            "Epoch 20/200\n",
            "6/6 [==============================] - 0s 78ms/step - loss: 1282.8503 - root_mean_squared_error: 35.8169 - val_loss: 2219.6658 - val_root_mean_squared_error: 47.1133 - lr: 1.2667e-06\n",
            "Epoch 21/200\n",
            "6/6 [==============================] - 1s 90ms/step - loss: 1281.2682 - root_mean_squared_error: 35.7948 - val_loss: 2216.8699 - val_root_mean_squared_error: 47.0836 - lr: 1.3333e-06\n",
            "Epoch 22/200\n",
            "6/6 [==============================] - 0s 72ms/step - loss: 1279.3917 - root_mean_squared_error: 35.7686 - val_loss: 2213.0669 - val_root_mean_squared_error: 47.0432 - lr: 1.4000e-06\n",
            "Epoch 23/200\n",
            "6/6 [==============================] - 0s 72ms/step - loss: 1277.0842 - root_mean_squared_error: 35.7363 - val_loss: 2208.5188 - val_root_mean_squared_error: 46.9949 - lr: 1.4667e-06\n",
            "Epoch 24/200\n",
            "6/6 [==============================] - 1s 101ms/step - loss: 1274.5406 - root_mean_squared_error: 35.7007 - val_loss: 2203.9080 - val_root_mean_squared_error: 46.9458 - lr: 1.5333e-06\n",
            "Epoch 25/200\n",
            "6/6 [==============================] - 0s 56ms/step - loss: 1271.9192 - root_mean_squared_error: 35.6640 - val_loss: 2199.2310 - val_root_mean_squared_error: 46.8960 - lr: 1.6000e-06\n",
            "Epoch 26/200\n",
            "6/6 [==============================] - 0s 48ms/step - loss: 1269.1655 - root_mean_squared_error: 35.6253 - val_loss: 2194.2476 - val_root_mean_squared_error: 46.8428 - lr: 1.6667e-06\n",
            "Epoch 27/200\n",
            "6/6 [==============================] - 0s 61ms/step - loss: 1266.1993 - root_mean_squared_error: 35.5837 - val_loss: 2188.8491 - val_root_mean_squared_error: 46.7851 - lr: 1.7333e-06\n",
            "Epoch 28/200\n",
            "6/6 [==============================] - 0s 62ms/step - loss: 1262.9883 - root_mean_squared_error: 35.5385 - val_loss: 2183.3857 - val_root_mean_squared_error: 46.7267 - lr: 1.8000e-06\n",
            "Epoch 29/200\n",
            "6/6 [==============================] - 0s 66ms/step - loss: 1259.5714 - root_mean_squared_error: 35.4904 - val_loss: 2177.4878 - val_root_mean_squared_error: 46.6636 - lr: 1.8667e-06\n",
            "Epoch 30/200\n",
            "6/6 [==============================] - 0s 59ms/step - loss: 1255.7123 - root_mean_squared_error: 35.4360 - val_loss: 2170.4622 - val_root_mean_squared_error: 46.5882 - lr: 1.9333e-06\n",
            "Epoch 31/200\n",
            "6/6 [==============================] - 0s 53ms/step - loss: 1251.8629 - root_mean_squared_error: 35.3817 - val_loss: 2162.1538 - val_root_mean_squared_error: 46.4990 - lr: 2.0000e-06\n",
            "Epoch 32/200\n",
            "6/6 [==============================] - 0s 59ms/step - loss: 1247.3923 - root_mean_squared_error: 35.3184 - val_loss: 2153.7847 - val_root_mean_squared_error: 46.4089 - lr: 2.0667e-06\n",
            "Epoch 33/200\n",
            "6/6 [==============================] - 0s 71ms/step - loss: 1242.8771 - root_mean_squared_error: 35.2545 - val_loss: 2145.0354 - val_root_mean_squared_error: 46.3145 - lr: 2.1333e-06\n",
            "Epoch 34/200\n",
            "6/6 [==============================] - 0s 48ms/step - loss: 1238.0402 - root_mean_squared_error: 35.1858 - val_loss: 2135.3899 - val_root_mean_squared_error: 46.2103 - lr: 2.2000e-06\n",
            "Epoch 35/200\n",
            "6/6 [==============================] - 0s 60ms/step - loss: 1233.1682 - root_mean_squared_error: 35.1165 - val_loss: 2125.5671 - val_root_mean_squared_error: 46.1039 - lr: 2.2667e-06\n",
            "Epoch 36/200\n",
            "6/6 [==============================] - 0s 72ms/step - loss: 1228.1713 - root_mean_squared_error: 35.0453 - val_loss: 2116.0984 - val_root_mean_squared_error: 46.0011 - lr: 2.3333e-06\n",
            "Epoch 37/200\n",
            "6/6 [==============================] - 0s 73ms/step - loss: 1223.2991 - root_mean_squared_error: 34.9757 - val_loss: 2106.4866 - val_root_mean_squared_error: 45.8965 - lr: 2.4000e-06\n",
            "Epoch 38/200\n",
            "6/6 [==============================] - 0s 71ms/step - loss: 1218.1741 - root_mean_squared_error: 34.9023 - val_loss: 2096.6692 - val_root_mean_squared_error: 45.7894 - lr: 2.4667e-06\n",
            "Epoch 39/200\n",
            "6/6 [==============================] - 0s 60ms/step - loss: 1212.9839 - root_mean_squared_error: 34.8279 - val_loss: 2086.4531 - val_root_mean_squared_error: 45.6777 - lr: 2.5333e-06\n",
            "Epoch 40/200\n",
            "6/6 [==============================] - 0s 79ms/step - loss: 1207.6265 - root_mean_squared_error: 34.7509 - val_loss: 2075.7214 - val_root_mean_squared_error: 45.5601 - lr: 2.6000e-06\n",
            "Epoch 41/200\n",
            "6/6 [==============================] - 1s 92ms/step - loss: 1202.1014 - root_mean_squared_error: 34.6713 - val_loss: 2065.1050 - val_root_mean_squared_error: 45.4434 - lr: 2.6667e-06\n",
            "Epoch 42/200\n",
            "6/6 [==============================] - 1s 104ms/step - loss: 1196.5328 - root_mean_squared_error: 34.5909 - val_loss: 2054.4609 - val_root_mean_squared_error: 45.3262 - lr: 2.7333e-06\n",
            "Epoch 43/200\n",
            "6/6 [==============================] - 1s 88ms/step - loss: 1190.8900 - root_mean_squared_error: 34.5093 - val_loss: 2043.9340 - val_root_mean_squared_error: 45.2099 - lr: 2.8000e-06\n",
            "Epoch 44/200\n",
            "6/6 [==============================] - 1s 95ms/step - loss: 1185.0568 - root_mean_squared_error: 34.4247 - val_loss: 2032.9661 - val_root_mean_squared_error: 45.0884 - lr: 2.8667e-06\n",
            "Epoch 45/200\n",
            "6/6 [==============================] - 0s 79ms/step - loss: 1178.9813 - root_mean_squared_error: 34.3363 - val_loss: 2021.2885 - val_root_mean_squared_error: 44.9587 - lr: 2.9333e-06\n",
            "Epoch 46/200\n",
            "6/6 [==============================] - 0s 68ms/step - loss: 1172.5579 - root_mean_squared_error: 34.2426 - val_loss: 2008.2498 - val_root_mean_squared_error: 44.8135 - lr: 3.0000e-06\n",
            "Epoch 47/200\n",
            "6/6 [==============================] - 1s 94ms/step - loss: 1165.6534 - root_mean_squared_error: 34.1417 - val_loss: 1994.6364 - val_root_mean_squared_error: 44.6614 - lr: 3.0667e-06\n",
            "Epoch 48/200\n",
            "6/6 [==============================] - 0s 73ms/step - loss: 1158.3754 - root_mean_squared_error: 34.0349 - val_loss: 1980.7977 - val_root_mean_squared_error: 44.5062 - lr: 3.1333e-06\n",
            "Epoch 49/200\n",
            "6/6 [==============================] - 0s 57ms/step - loss: 1150.9551 - root_mean_squared_error: 33.9257 - val_loss: 1966.9546 - val_root_mean_squared_error: 44.3504 - lr: 3.2000e-06\n",
            "Epoch 50/200\n",
            "6/6 [==============================] - 0s 72ms/step - loss: 1143.4668 - root_mean_squared_error: 33.8152 - val_loss: 1952.2106 - val_root_mean_squared_error: 44.1838 - lr: 3.2667e-06\n",
            "Epoch 51/200\n",
            "6/6 [==============================] - 1s 94ms/step - loss: 1135.4354 - root_mean_squared_error: 33.6962 - val_loss: 1937.1749 - val_root_mean_squared_error: 44.0134 - lr: 3.3333e-06\n",
            "Epoch 52/200\n",
            "6/6 [==============================] - 0s 77ms/step - loss: 1127.1245 - root_mean_squared_error: 33.5727 - val_loss: 1921.0120 - val_root_mean_squared_error: 43.8293 - lr: 3.4000e-06\n",
            "Epoch 53/200\n",
            "6/6 [==============================] - 1s 94ms/step - loss: 1118.0287 - root_mean_squared_error: 33.4369 - val_loss: 1903.7679 - val_root_mean_squared_error: 43.6322 - lr: 3.4667e-06\n",
            "Epoch 54/200\n",
            "6/6 [==============================] - 1s 90ms/step - loss: 1108.4686 - root_mean_squared_error: 33.2937 - val_loss: 1884.5516 - val_root_mean_squared_error: 43.4114 - lr: 3.5333e-06\n",
            "Epoch 55/200\n",
            "6/6 [==============================] - 1s 98ms/step - loss: 1097.8479 - root_mean_squared_error: 33.1338 - val_loss: 1865.0601 - val_root_mean_squared_error: 43.1863 - lr: 3.6000e-06\n",
            "Epoch 56/200\n",
            "6/6 [==============================] - 0s 86ms/step - loss: 1087.3810 - root_mean_squared_error: 32.9755 - val_loss: 1843.9471 - val_root_mean_squared_error: 42.9412 - lr: 3.6667e-06\n",
            "Epoch 57/200\n",
            "6/6 [==============================] - 0s 69ms/step - loss: 1075.7563 - root_mean_squared_error: 32.7987 - val_loss: 1821.8071 - val_root_mean_squared_error: 42.6826 - lr: 3.7333e-06\n",
            "Epoch 58/200\n",
            "6/6 [==============================] - 0s 66ms/step - loss: 1063.7484 - root_mean_squared_error: 32.6152 - val_loss: 1798.6548 - val_root_mean_squared_error: 42.4106 - lr: 3.8000e-06\n",
            "Epoch 59/200\n",
            "6/6 [==============================] - 0s 51ms/step - loss: 1051.4929 - root_mean_squared_error: 32.4267 - val_loss: 1774.1947 - val_root_mean_squared_error: 42.1212 - lr: 3.8667e-06\n",
            "Epoch 60/200\n",
            "6/6 [==============================] - 0s 70ms/step - loss: 1038.4524 - root_mean_squared_error: 32.2250 - val_loss: 1749.6313 - val_root_mean_squared_error: 41.8286 - lr: 3.9333e-06\n",
            "Epoch 61/200\n",
            "6/6 [==============================] - 0s 76ms/step - loss: 1025.2437 - root_mean_squared_error: 32.0194 - val_loss: 1723.4141 - val_root_mean_squared_error: 41.5140 - lr: 4.0000e-06\n",
            "Epoch 62/200\n",
            "6/6 [==============================] - 0s 71ms/step - loss: 1011.3599 - root_mean_squared_error: 31.8019 - val_loss: 1696.3225 - val_root_mean_squared_error: 41.1864 - lr: 4.0667e-06\n",
            "Epoch 63/200\n",
            "6/6 [==============================] - 0s 79ms/step - loss: 997.1257 - root_mean_squared_error: 31.5773 - val_loss: 1667.9784 - val_root_mean_squared_error: 40.8409 - lr: 4.1333e-06\n",
            "Epoch 64/200\n",
            "6/6 [==============================] - 0s 70ms/step - loss: 981.7076 - root_mean_squared_error: 31.3322 - val_loss: 1638.8929 - val_root_mean_squared_error: 40.4832 - lr: 4.2000e-06\n",
            "Epoch 65/200\n",
            "6/6 [==============================] - 1s 99ms/step - loss: 965.9953 - root_mean_squared_error: 31.0805 - val_loss: 1607.3257 - val_root_mean_squared_error: 40.0915 - lr: 4.2667e-06\n",
            "Epoch 66/200\n",
            "6/6 [==============================] - 1s 103ms/step - loss: 948.7778 - root_mean_squared_error: 30.8022 - val_loss: 1573.7228 - val_root_mean_squared_error: 39.6702 - lr: 4.3333e-06\n",
            "Epoch 67/200\n",
            "6/6 [==============================] - 1s 96ms/step - loss: 931.2678 - root_mean_squared_error: 30.5167 - val_loss: 1540.4366 - val_root_mean_squared_error: 39.2484 - lr: 4.4000e-06\n",
            "Epoch 68/200\n",
            "6/6 [==============================] - 1s 82ms/step - loss: 913.5750 - root_mean_squared_error: 30.2254 - val_loss: 1505.9056 - val_root_mean_squared_error: 38.8060 - lr: 4.4667e-06\n",
            "Epoch 69/200\n",
            "6/6 [==============================] - 0s 79ms/step - loss: 894.5136 - root_mean_squared_error: 29.9084 - val_loss: 1468.7578 - val_root_mean_squared_error: 38.3244 - lr: 4.5333e-06\n",
            "Epoch 70/200\n",
            "6/6 [==============================] - 0s 67ms/step - loss: 874.2030 - root_mean_squared_error: 29.5669 - val_loss: 1426.9507 - val_root_mean_squared_error: 37.7750 - lr: 4.6000e-06\n",
            "Epoch 71/200\n",
            "6/6 [==============================] - 0s 66ms/step - loss: 851.5005 - root_mean_squared_error: 29.1805 - val_loss: 1381.1498 - val_root_mean_squared_error: 37.1638 - lr: 4.6667e-06\n",
            "Epoch 72/200\n",
            "6/6 [==============================] - 0s 84ms/step - loss: 827.1902 - root_mean_squared_error: 28.7609 - val_loss: 1333.4095 - val_root_mean_squared_error: 36.5159 - lr: 4.7333e-06\n",
            "Epoch 73/200\n",
            "6/6 [==============================] - 0s 83ms/step - loss: 801.8739 - root_mean_squared_error: 28.3174 - val_loss: 1285.5582 - val_root_mean_squared_error: 35.8547 - lr: 4.8000e-06\n",
            "Epoch 74/200\n",
            "6/6 [==============================] - 0s 77ms/step - loss: 775.9088 - root_mean_squared_error: 27.8551 - val_loss: 1233.8785 - val_root_mean_squared_error: 35.1266 - lr: 4.8667e-06\n",
            "Epoch 75/200\n",
            "6/6 [==============================] - 0s 72ms/step - loss: 748.3471 - root_mean_squared_error: 27.3559 - val_loss: 1178.5603 - val_root_mean_squared_error: 34.3302 - lr: 4.9333e-06\n",
            "Epoch 76/200\n",
            "6/6 [==============================] - 0s 69ms/step - loss: 719.1481 - root_mean_squared_error: 26.8169 - val_loss: 1122.8645 - val_root_mean_squared_error: 33.5092 - lr: 5.0000e-06\n",
            "Epoch 77/200\n",
            "6/6 [==============================] - 0s 54ms/step - loss: 689.1764 - root_mean_squared_error: 26.2522 - val_loss: 1066.5198 - val_root_mean_squared_error: 32.6576 - lr: 5.0667e-06\n",
            "Epoch 78/200\n",
            "6/6 [==============================] - 0s 65ms/step - loss: 658.3124 - root_mean_squared_error: 25.6576 - val_loss: 1008.1823 - val_root_mean_squared_error: 31.7519 - lr: 5.1333e-06\n",
            "Epoch 79/200\n",
            "6/6 [==============================] - 0s 56ms/step - loss: 625.3521 - root_mean_squared_error: 25.0070 - val_loss: 944.6291 - val_root_mean_squared_error: 30.7348 - lr: 5.2000e-06\n",
            "Epoch 80/200\n",
            "6/6 [==============================] - 0s 75ms/step - loss: 590.8391 - root_mean_squared_error: 24.3072 - val_loss: 878.9365 - val_root_mean_squared_error: 29.6469 - lr: 5.2667e-06\n",
            "Epoch 81/200\n",
            "6/6 [==============================] - 0s 60ms/step - loss: 554.2432 - root_mean_squared_error: 23.5424 - val_loss: 810.5981 - val_root_mean_squared_error: 28.4710 - lr: 5.3333e-06\n",
            "Epoch 82/200\n",
            "6/6 [==============================] - 0s 61ms/step - loss: 516.7662 - root_mean_squared_error: 22.7325 - val_loss: 739.0771 - val_root_mean_squared_error: 27.1860 - lr: 5.4000e-06\n",
            "Epoch 83/200\n",
            "6/6 [==============================] - 0s 52ms/step - loss: 477.1682 - root_mean_squared_error: 21.8442 - val_loss: 670.7018 - val_root_mean_squared_error: 25.8979 - lr: 5.4667e-06\n",
            "Epoch 84/200\n",
            "6/6 [==============================] - 0s 57ms/step - loss: 439.4839 - root_mean_squared_error: 20.9639 - val_loss: 603.2654 - val_root_mean_squared_error: 24.5615 - lr: 5.5333e-06\n",
            "Epoch 85/200\n",
            "6/6 [==============================] - 0s 61ms/step - loss: 401.9430 - root_mean_squared_error: 20.0485 - val_loss: 537.7629 - val_root_mean_squared_error: 23.1897 - lr: 5.6000e-06\n",
            "Epoch 86/200\n",
            "6/6 [==============================] - 0s 61ms/step - loss: 364.3851 - root_mean_squared_error: 19.0889 - val_loss: 470.3362 - val_root_mean_squared_error: 21.6872 - lr: 5.6667e-06\n",
            "Epoch 87/200\n",
            "6/6 [==============================] - 0s 66ms/step - loss: 326.3280 - root_mean_squared_error: 18.0646 - val_loss: 405.7102 - val_root_mean_squared_error: 20.1423 - lr: 5.7333e-06\n",
            "Epoch 88/200\n",
            "6/6 [==============================] - 0s 77ms/step - loss: 288.4868 - root_mean_squared_error: 16.9849 - val_loss: 344.2554 - val_root_mean_squared_error: 18.5541 - lr: 5.8000e-06\n",
            "Epoch 89/200\n",
            "6/6 [==============================] - 0s 86ms/step - loss: 252.0740 - root_mean_squared_error: 15.8768 - val_loss: 286.3576 - val_root_mean_squared_error: 16.9221 - lr: 5.8667e-06\n",
            "Epoch 90/200\n",
            "6/6 [==============================] - 0s 76ms/step - loss: 217.4367 - root_mean_squared_error: 14.7457 - val_loss: 230.8583 - val_root_mean_squared_error: 15.1940 - lr: 5.9333e-06\n",
            "Epoch 91/200\n",
            "6/6 [==============================] - 0s 53ms/step - loss: 183.5477 - root_mean_squared_error: 13.5480 - val_loss: 181.7060 - val_root_mean_squared_error: 13.4798 - lr: 6.0000e-06\n",
            "Epoch 92/200\n",
            "6/6 [==============================] - 0s 74ms/step - loss: 152.6045 - root_mean_squared_error: 12.3533 - val_loss: 139.1621 - val_root_mean_squared_error: 11.7967 - lr: 6.0667e-06\n",
            "Epoch 93/200\n",
            "6/6 [==============================] - 0s 72ms/step - loss: 125.4110 - root_mean_squared_error: 11.1987 - val_loss: 103.9713 - val_root_mean_squared_error: 10.1966 - lr: 6.1333e-06\n",
            "Epoch 94/200\n",
            "6/6 [==============================] - 0s 73ms/step - loss: 101.9275 - root_mean_squared_error: 10.0959 - val_loss: 76.5594 - val_root_mean_squared_error: 8.7498 - lr: 6.2000e-06\n",
            "Epoch 95/200\n",
            "6/6 [==============================] - 0s 60ms/step - loss: 82.4209 - root_mean_squared_error: 9.0786 - val_loss: 56.8476 - val_root_mean_squared_error: 7.5397 - lr: 6.2667e-06\n",
            "Epoch 96/200\n",
            "6/6 [==============================] - 0s 58ms/step - loss: 66.7828 - root_mean_squared_error: 8.1721 - val_loss: 43.6896 - val_root_mean_squared_error: 6.6098 - lr: 6.3333e-06\n",
            "Epoch 97/200\n",
            "6/6 [==============================] - 0s 58ms/step - loss: 54.7462 - root_mean_squared_error: 7.3991 - val_loss: 35.6669 - val_root_mean_squared_error: 5.9722 - lr: 6.4000e-06\n",
            "Epoch 98/200\n",
            "6/6 [==============================] - 0s 56ms/step - loss: 45.8907 - root_mean_squared_error: 6.7743 - val_loss: 31.7824 - val_root_mean_squared_error: 5.6376 - lr: 6.4667e-06\n",
            "Epoch 99/200\n",
            "6/6 [==============================] - 0s 57ms/step - loss: 39.2900 - root_mean_squared_error: 6.2682 - val_loss: 29.7859 - val_root_mean_squared_error: 5.4576 - lr: 6.5333e-06\n",
            "Epoch 100/200\n",
            "6/6 [==============================] - 0s 82ms/step - loss: 34.7483 - root_mean_squared_error: 5.8948 - val_loss: 27.9905 - val_root_mean_squared_error: 5.2906 - lr: 6.6000e-06\n",
            "Epoch 101/200\n",
            "6/6 [==============================] - 0s 70ms/step - loss: 31.1686 - root_mean_squared_error: 5.5829 - val_loss: 25.4880 - val_root_mean_squared_error: 5.0486 - lr: 6.6667e-06\n",
            "Epoch 102/200\n",
            "6/6 [==============================] - 0s 77ms/step - loss: 28.3927 - root_mean_squared_error: 5.3285 - val_loss: 23.6504 - val_root_mean_squared_error: 4.8632 - lr: 6.7333e-06\n",
            "Epoch 103/200\n",
            "6/6 [==============================] - 1s 104ms/step - loss: 26.1779 - root_mean_squared_error: 5.1164 - val_loss: 22.1180 - val_root_mean_squared_error: 4.7030 - lr: 6.8000e-06\n",
            "Epoch 104/200\n",
            "6/6 [==============================] - 0s 85ms/step - loss: 24.3479 - root_mean_squared_error: 4.9344 - val_loss: 18.7669 - val_root_mean_squared_error: 4.3321 - lr: 6.8667e-06\n",
            "Epoch 105/200\n",
            "6/6 [==============================] - 1s 98ms/step - loss: 22.8814 - root_mean_squared_error: 4.7834 - val_loss: 17.4625 - val_root_mean_squared_error: 4.1788 - lr: 6.9333e-06\n",
            "Epoch 106/200\n",
            "6/6 [==============================] - 1s 98ms/step - loss: 21.6915 - root_mean_squared_error: 4.6574 - val_loss: 16.8475 - val_root_mean_squared_error: 4.1046 - lr: 7.0000e-06\n",
            "Epoch 107/200\n",
            "6/6 [==============================] - 1s 90ms/step - loss: 20.5936 - root_mean_squared_error: 4.5380 - val_loss: 17.0664 - val_root_mean_squared_error: 4.1312 - lr: 7.0667e-06\n",
            "Epoch 108/200\n",
            "6/6 [==============================] - 0s 68ms/step - loss: 19.6644 - root_mean_squared_error: 4.4345 - val_loss: 17.5488 - val_root_mean_squared_error: 4.1891 - lr: 7.1333e-06\n",
            "Epoch 109/200\n",
            "6/6 [==============================] - 0s 82ms/step - loss: 18.9634 - root_mean_squared_error: 4.3547 - val_loss: 17.9556 - val_root_mean_squared_error: 4.2374 - lr: 7.2000e-06\n",
            "Epoch 110/200\n",
            "6/6 [==============================] - 0s 84ms/step - loss: 18.2569 - root_mean_squared_error: 4.2728 - val_loss: 16.2774 - val_root_mean_squared_error: 4.0345 - lr: 7.2667e-06\n",
            "Epoch 111/200\n",
            "6/6 [==============================] - 0s 79ms/step - loss: 17.5670 - root_mean_squared_error: 4.1913 - val_loss: 15.2276 - val_root_mean_squared_error: 3.9023 - lr: 7.3333e-06\n",
            "Epoch 112/200\n",
            "6/6 [==============================] - 0s 65ms/step - loss: 16.9782 - root_mean_squared_error: 4.1205 - val_loss: 14.3135 - val_root_mean_squared_error: 3.7833 - lr: 7.4000e-06\n",
            "Epoch 113/200\n",
            "6/6 [==============================] - 0s 82ms/step - loss: 16.4316 - root_mean_squared_error: 4.0536 - val_loss: 13.3444 - val_root_mean_squared_error: 3.6530 - lr: 7.4667e-06\n",
            "Epoch 114/200\n",
            "6/6 [==============================] - 0s 84ms/step - loss: 15.8822 - root_mean_squared_error: 3.9853 - val_loss: 13.3830 - val_root_mean_squared_error: 3.6583 - lr: 7.5333e-06\n",
            "Epoch 115/200\n",
            "6/6 [==============================] - 0s 86ms/step - loss: 15.4108 - root_mean_squared_error: 3.9257 - val_loss: 13.0070 - val_root_mean_squared_error: 3.6065 - lr: 7.6000e-06\n",
            "Epoch 116/200\n",
            "6/6 [==============================] - 0s 84ms/step - loss: 14.9876 - root_mean_squared_error: 3.8714 - val_loss: 11.9857 - val_root_mean_squared_error: 3.4620 - lr: 7.6667e-06\n",
            "Epoch 117/200\n",
            "6/6 [==============================] - 0s 78ms/step - loss: 14.5309 - root_mean_squared_error: 3.8119 - val_loss: 11.8267 - val_root_mean_squared_error: 3.4390 - lr: 7.7333e-06\n",
            "Epoch 118/200\n",
            "6/6 [==============================] - 0s 79ms/step - loss: 14.1261 - root_mean_squared_error: 3.7585 - val_loss: 12.0874 - val_root_mean_squared_error: 3.4767 - lr: 7.8000e-06\n",
            "Epoch 119/200\n",
            "6/6 [==============================] - 0s 69ms/step - loss: 13.7082 - root_mean_squared_error: 3.7025 - val_loss: 11.7717 - val_root_mean_squared_error: 3.4310 - lr: 7.8667e-06\n",
            "Epoch 120/200\n",
            "6/6 [==============================] - 1s 89ms/step - loss: 13.3174 - root_mean_squared_error: 3.6493 - val_loss: 11.9935 - val_root_mean_squared_error: 3.4632 - lr: 7.9333e-06\n",
            "Epoch 121/200\n",
            "6/6 [==============================] - 0s 84ms/step - loss: 12.9488 - root_mean_squared_error: 3.5984 - val_loss: 11.4873 - val_root_mean_squared_error: 3.3893 - lr: 8.0000e-06\n",
            "Epoch 122/200\n",
            "6/6 [==============================] - 0s 75ms/step - loss: 12.5744 - root_mean_squared_error: 3.5460 - val_loss: 10.3468 - val_root_mean_squared_error: 3.2166 - lr: 8.0667e-06\n",
            "Epoch 123/200\n",
            "6/6 [==============================] - 1s 90ms/step - loss: 12.1957 - root_mean_squared_error: 3.4922 - val_loss: 10.0834 - val_root_mean_squared_error: 3.1754 - lr: 8.1333e-06\n",
            "Epoch 124/200\n",
            "6/6 [==============================] - 1s 96ms/step - loss: 11.8416 - root_mean_squared_error: 3.4412 - val_loss: 9.2868 - val_root_mean_squared_error: 3.0474 - lr: 8.2000e-06\n",
            "Epoch 125/200\n",
            "6/6 [==============================] - 1s 96ms/step - loss: 11.4516 - root_mean_squared_error: 3.3840 - val_loss: 8.6433 - val_root_mean_squared_error: 2.9400 - lr: 8.2667e-06\n",
            "Epoch 126/200\n",
            "6/6 [==============================] - 0s 67ms/step - loss: 11.1125 - root_mean_squared_error: 3.3335 - val_loss: 7.9429 - val_root_mean_squared_error: 2.8183 - lr: 8.3333e-06\n",
            "Epoch 127/200\n",
            "6/6 [==============================] - 0s 50ms/step - loss: 10.7385 - root_mean_squared_error: 3.2770 - val_loss: 7.8288 - val_root_mean_squared_error: 2.7980 - lr: 8.4000e-06\n",
            "Epoch 128/200\n",
            "6/6 [==============================] - 0s 47ms/step - loss: 10.3899 - root_mean_squared_error: 3.2233 - val_loss: 7.6346 - val_root_mean_squared_error: 2.7631 - lr: 8.4667e-06\n",
            "Epoch 129/200\n",
            "6/6 [==============================] - 0s 58ms/step - loss: 10.0566 - root_mean_squared_error: 3.1712 - val_loss: 7.9174 - val_root_mean_squared_error: 2.8138 - lr: 8.5333e-06\n",
            "Epoch 130/200\n",
            "6/6 [==============================] - 0s 68ms/step - loss: 9.7230 - root_mean_squared_error: 3.1182 - val_loss: 8.6524 - val_root_mean_squared_error: 2.9415 - lr: 8.6000e-06\n",
            "Epoch 131/200\n",
            "6/6 [==============================] - 0s 80ms/step - loss: 9.4573 - root_mean_squared_error: 3.0753 - val_loss: 8.7463 - val_root_mean_squared_error: 2.9574 - lr: 8.6667e-06\n",
            "Epoch 132/200\n",
            "6/6 [==============================] - 0s 59ms/step - loss: 9.1310 - root_mean_squared_error: 3.0218 - val_loss: 8.0966 - val_root_mean_squared_error: 2.8454 - lr: 8.7333e-06\n",
            "Epoch 133/200\n",
            "6/6 [==============================] - 0s 74ms/step - loss: 8.8028 - root_mean_squared_error: 2.9669 - val_loss: 7.2158 - val_root_mean_squared_error: 2.6862 - lr: 8.8000e-06\n",
            "Epoch 134/200\n",
            "6/6 [==============================] - 0s 49ms/step - loss: 8.5123 - root_mean_squared_error: 2.9176 - val_loss: 6.2861 - val_root_mean_squared_error: 2.5072 - lr: 8.8667e-06\n",
            "Epoch 135/200\n",
            "6/6 [==============================] - 0s 49ms/step - loss: 8.2293 - root_mean_squared_error: 2.8687 - val_loss: 6.3449 - val_root_mean_squared_error: 2.5189 - lr: 8.9333e-06\n",
            "Epoch 136/200\n",
            "6/6 [==============================] - 0s 45ms/step - loss: 7.9651 - root_mean_squared_error: 2.8223 - val_loss: 7.0318 - val_root_mean_squared_error: 2.6518 - lr: 9.0000e-06\n",
            "Epoch 137/200\n",
            "6/6 [==============================] - 0s 42ms/step - loss: 7.6996 - root_mean_squared_error: 2.7748 - val_loss: 7.2522 - val_root_mean_squared_error: 2.6930 - lr: 9.0667e-06\n",
            "Epoch 138/200\n",
            "6/6 [==============================] - 0s 47ms/step - loss: 7.4362 - root_mean_squared_error: 2.7269 - val_loss: 6.5296 - val_root_mean_squared_error: 2.5553 - lr: 9.1333e-06\n",
            "Epoch 139/200\n",
            "6/6 [==============================] - 0s 39ms/step - loss: 7.1391 - root_mean_squared_error: 2.6719 - val_loss: 5.6798 - val_root_mean_squared_error: 2.3832 - lr: 9.2000e-06\n",
            "Epoch 140/200\n",
            "6/6 [==============================] - 0s 45ms/step - loss: 6.8915 - root_mean_squared_error: 2.6252 - val_loss: 5.2600 - val_root_mean_squared_error: 2.2935 - lr: 9.2667e-06\n",
            "Epoch 141/200\n",
            "6/6 [==============================] - 0s 37ms/step - loss: 6.6592 - root_mean_squared_error: 2.5805 - val_loss: 4.8654 - val_root_mean_squared_error: 2.2058 - lr: 9.3333e-06\n",
            "Epoch 142/200\n",
            "6/6 [==============================] - 0s 27ms/step - loss: 6.4481 - root_mean_squared_error: 2.5393 - val_loss: 4.9013 - val_root_mean_squared_error: 2.2139 - lr: 9.4000e-06\n",
            "Epoch 143/200\n",
            "6/6 [==============================] - 0s 27ms/step - loss: 6.2021 - root_mean_squared_error: 2.4904 - val_loss: 5.1797 - val_root_mean_squared_error: 2.2759 - lr: 9.4667e-06\n",
            "Epoch 144/200\n",
            "6/6 [==============================] - 0s 29ms/step - loss: 5.9975 - root_mean_squared_error: 2.4490 - val_loss: 5.2746 - val_root_mean_squared_error: 2.2966 - lr: 9.5333e-06\n",
            "Epoch 145/200\n",
            "6/6 [==============================] - 0s 28ms/step - loss: 5.7760 - root_mean_squared_error: 2.4033 - val_loss: 4.6437 - val_root_mean_squared_error: 2.1549 - lr: 9.6000e-06\n",
            "Epoch 146/200\n",
            "6/6 [==============================] - 0s 28ms/step - loss: 5.5690 - root_mean_squared_error: 2.3599 - val_loss: 3.8273 - val_root_mean_squared_error: 1.9564 - lr: 9.6667e-06\n",
            "Epoch 147/200\n",
            "6/6 [==============================] - 0s 30ms/step - loss: 5.3911 - root_mean_squared_error: 2.3219 - val_loss: 3.7182 - val_root_mean_squared_error: 1.9283 - lr: 9.7333e-06\n",
            "Epoch 148/200\n",
            "6/6 [==============================] - 0s 27ms/step - loss: 5.1864 - root_mean_squared_error: 2.2774 - val_loss: 3.6967 - val_root_mean_squared_error: 1.9227 - lr: 9.8000e-06\n",
            "Epoch 149/200\n",
            "6/6 [==============================] - 0s 27ms/step - loss: 4.9794 - root_mean_squared_error: 2.2315 - val_loss: 3.9884 - val_root_mean_squared_error: 1.9971 - lr: 9.8667e-06\n",
            "Epoch 150/200\n",
            "6/6 [==============================] - 0s 26ms/step - loss: 4.8008 - root_mean_squared_error: 2.1911 - val_loss: 4.1843 - val_root_mean_squared_error: 2.0456 - lr: 9.9333e-06\n",
            "Epoch 151/200\n",
            "6/6 [==============================] - 0s 29ms/step - loss: 4.6335 - root_mean_squared_error: 2.1526 - val_loss: 3.6408 - val_root_mean_squared_error: 1.9081 - lr: 1.0000e-05\n",
            "Epoch 152/200\n",
            "6/6 [==============================] - 0s 28ms/step - loss: 4.4626 - root_mean_squared_error: 2.1125 - val_loss: 3.4866 - val_root_mean_squared_error: 1.8672 - lr: 9.9005e-06\n",
            "Epoch 153/200\n",
            "6/6 [==============================] - 0s 28ms/step - loss: 4.3257 - root_mean_squared_error: 2.0798 - val_loss: 3.2980 - val_root_mean_squared_error: 1.8160 - lr: 9.8020e-06\n",
            "Epoch 154/200\n",
            "6/6 [==============================] - 0s 26ms/step - loss: 4.1473 - root_mean_squared_error: 2.0365 - val_loss: 3.3145 - val_root_mean_squared_error: 1.8206 - lr: 9.7045e-06\n",
            "Epoch 155/200\n",
            "6/6 [==============================] - 0s 26ms/step - loss: 4.0014 - root_mean_squared_error: 2.0003 - val_loss: 3.4165 - val_root_mean_squared_error: 1.8484 - lr: 9.6079e-06\n",
            "Epoch 156/200\n",
            "6/6 [==============================] - 0s 27ms/step - loss: 3.8878 - root_mean_squared_error: 1.9718 - val_loss: 3.5030 - val_root_mean_squared_error: 1.8716 - lr: 9.5123e-06\n",
            "Epoch 157/200\n",
            "6/6 [==============================] - 0s 30ms/step - loss: 3.7460 - root_mean_squared_error: 1.9355 - val_loss: 3.2353 - val_root_mean_squared_error: 1.7987 - lr: 9.4176e-06\n",
            "Epoch 158/200\n",
            "6/6 [==============================] - 0s 27ms/step - loss: 3.6247 - root_mean_squared_error: 1.9039 - val_loss: 3.0281 - val_root_mean_squared_error: 1.7401 - lr: 9.3239e-06\n",
            "Epoch 159/200\n",
            "6/6 [==============================] - 0s 28ms/step - loss: 3.5167 - root_mean_squared_error: 1.8753 - val_loss: 2.9148 - val_root_mean_squared_error: 1.7073 - lr: 9.2312e-06\n",
            "Epoch 160/200\n",
            "6/6 [==============================] - 0s 26ms/step - loss: 3.4251 - root_mean_squared_error: 1.8507 - val_loss: 2.9081 - val_root_mean_squared_error: 1.7053 - lr: 9.1393e-06\n",
            "Epoch 161/200\n",
            "6/6 [==============================] - 0s 30ms/step - loss: 3.3174 - root_mean_squared_error: 1.8214 - val_loss: 2.9199 - val_root_mean_squared_error: 1.7088 - lr: 9.0484e-06\n",
            "Epoch 162/200\n",
            "6/6 [==============================] - 0s 27ms/step - loss: 3.2495 - root_mean_squared_error: 1.8026 - val_loss: 2.9433 - val_root_mean_squared_error: 1.7156 - lr: 8.9583e-06\n",
            "Epoch 163/200\n",
            "6/6 [==============================] - 0s 28ms/step - loss: 3.1747 - root_mean_squared_error: 1.7818 - val_loss: 2.9466 - val_root_mean_squared_error: 1.7166 - lr: 8.8692e-06\n",
            "Epoch 164/200\n",
            "6/6 [==============================] - 0s 26ms/step - loss: 3.0839 - root_mean_squared_error: 1.7561 - val_loss: 2.9276 - val_root_mean_squared_error: 1.7110 - lr: 8.7810e-06\n",
            "Epoch 165/200\n",
            "6/6 [==============================] - 0s 30ms/step - loss: 2.9985 - root_mean_squared_error: 1.7316 - val_loss: 2.8675 - val_root_mean_squared_error: 1.6934 - lr: 8.6936e-06\n",
            "Epoch 166/200\n",
            "6/6 [==============================] - 0s 26ms/step - loss: 2.8971 - root_mean_squared_error: 1.7021 - val_loss: 2.7662 - val_root_mean_squared_error: 1.6632 - lr: 8.6071e-06\n",
            "Epoch 167/200\n",
            "6/6 [==============================] - 0s 27ms/step - loss: 2.8673 - root_mean_squared_error: 1.6933 - val_loss: 2.7692 - val_root_mean_squared_error: 1.6641 - lr: 8.5214e-06\n",
            "Epoch 168/200\n",
            "6/6 [==============================] - 0s 34ms/step - loss: 2.8035 - root_mean_squared_error: 1.6744 - val_loss: 2.6973 - val_root_mean_squared_error: 1.6423 - lr: 8.4366e-06\n",
            "Epoch 169/200\n",
            "6/6 [==============================] - 0s 35ms/step - loss: 2.7192 - root_mean_squared_error: 1.6490 - val_loss: 2.6347 - val_root_mean_squared_error: 1.6232 - lr: 8.3527e-06\n",
            "Epoch 170/200\n",
            "6/6 [==============================] - 0s 37ms/step - loss: 2.6495 - root_mean_squared_error: 1.6277 - val_loss: 2.5990 - val_root_mean_squared_error: 1.6121 - lr: 8.2696e-06\n",
            "Epoch 171/200\n",
            "6/6 [==============================] - 0s 35ms/step - loss: 2.6017 - root_mean_squared_error: 1.6130 - val_loss: 2.5976 - val_root_mean_squared_error: 1.6117 - lr: 8.1873e-06\n",
            "Epoch 172/200\n",
            "6/6 [==============================] - 0s 33ms/step - loss: 2.5517 - root_mean_squared_error: 1.5974 - val_loss: 2.6114 - val_root_mean_squared_error: 1.6160 - lr: 8.1058e-06\n",
            "Epoch 173/200\n",
            "6/6 [==============================] - 0s 27ms/step - loss: 2.5024 - root_mean_squared_error: 1.5819 - val_loss: 2.6268 - val_root_mean_squared_error: 1.6207 - lr: 8.0252e-06\n",
            "Epoch 174/200\n",
            "6/6 [==============================] - 0s 29ms/step - loss: 2.4557 - root_mean_squared_error: 1.5671 - val_loss: 2.6349 - val_root_mean_squared_error: 1.6232 - lr: 7.9453e-06\n",
            "Epoch 175/200\n",
            "6/6 [==============================] - 0s 31ms/step - loss: 2.4159 - root_mean_squared_error: 1.5543 - val_loss: 2.6275 - val_root_mean_squared_error: 1.6210 - lr: 7.8663e-06\n",
            "Epoch 176/200\n",
            "6/6 [==============================] - 0s 27ms/step - loss: 2.3764 - root_mean_squared_error: 1.5416 - val_loss: 2.6160 - val_root_mean_squared_error: 1.6174 - lr: 7.7880e-06\n",
            "Epoch 177/200\n",
            "6/6 [==============================] - 0s 27ms/step - loss: 2.3392 - root_mean_squared_error: 1.5294 - val_loss: 2.6011 - val_root_mean_squared_error: 1.6128 - lr: 7.7105e-06\n",
            "Epoch 178/200\n",
            "6/6 [==============================] - 0s 30ms/step - loss: 2.3078 - root_mean_squared_error: 1.5191 - val_loss: 2.5900 - val_root_mean_squared_error: 1.6094 - lr: 7.6338e-06\n",
            "Epoch 179/200\n",
            "6/6 [==============================] - 0s 28ms/step - loss: 2.2636 - root_mean_squared_error: 1.5045 - val_loss: 2.6098 - val_root_mean_squared_error: 1.6155 - lr: 7.5578e-06\n",
            "Epoch 180/200\n",
            "6/6 [==============================] - 0s 29ms/step - loss: 2.2213 - root_mean_squared_error: 1.4904 - val_loss: 2.6426 - val_root_mean_squared_error: 1.6256 - lr: 7.4826e-06\n",
            "Epoch 181/200\n",
            "6/6 [==============================] - 0s 30ms/step - loss: 2.1936 - root_mean_squared_error: 1.4811 - val_loss: 2.7353 - val_root_mean_squared_error: 1.6539 - lr: 7.4082e-06\n",
            "Epoch 182/200\n",
            "6/6 [==============================] - 0s 30ms/step - loss: 2.1809 - root_mean_squared_error: 1.4768 - val_loss: 2.8459 - val_root_mean_squared_error: 1.6870 - lr: 7.3345e-06\n",
            "Epoch 183/200\n",
            "6/6 [==============================] - 0s 28ms/step - loss: 2.1842 - root_mean_squared_error: 1.4779 - val_loss: 2.8162 - val_root_mean_squared_error: 1.6781 - lr: 7.2615e-06\n",
            "Epoch 184/200\n",
            "6/6 [==============================] - 0s 32ms/step - loss: 2.1388 - root_mean_squared_error: 1.4625 - val_loss: 2.7281 - val_root_mean_squared_error: 1.6517 - lr: 7.1892e-06\n",
            "Epoch 185/200\n",
            "6/6 [==============================] - 0s 30ms/step - loss: 2.0981 - root_mean_squared_error: 1.4485 - val_loss: 2.6945 - val_root_mean_squared_error: 1.6415 - lr: 7.1177e-06\n",
            "Epoch 186/200\n",
            "6/6 [==============================] - 0s 30ms/step - loss: 2.0737 - root_mean_squared_error: 1.4400 - val_loss: 2.7798 - val_root_mean_squared_error: 1.6673 - lr: 7.0469e-06\n",
            "Epoch 187/200\n",
            "6/6 [==============================] - 0s 27ms/step - loss: 2.0692 - root_mean_squared_error: 1.4385 - val_loss: 2.8817 - val_root_mean_squared_error: 1.6975 - lr: 6.9768e-06\n",
            "Epoch 188/200\n",
            "6/6 [==============================] - 0s 30ms/step - loss: 2.0433 - root_mean_squared_error: 1.4294 - val_loss: 2.7495 - val_root_mean_squared_error: 1.6582 - lr: 6.9073e-06\n",
            "Epoch 189/200\n",
            "6/6 [==============================] - 0s 34ms/step - loss: 2.0071 - root_mean_squared_error: 1.4167 - val_loss: 2.6490 - val_root_mean_squared_error: 1.6276 - lr: 6.8386e-06\n",
            "Epoch 190/200\n",
            "6/6 [==============================] - 0s 37ms/step - loss: 1.9821 - root_mean_squared_error: 1.4079 - val_loss: 2.6329 - val_root_mean_squared_error: 1.6226 - lr: 6.7706e-06\n",
            "Epoch 191/200\n",
            "6/6 [==============================] - 0s 37ms/step - loss: 1.9687 - root_mean_squared_error: 1.4031 - val_loss: 2.6780 - val_root_mean_squared_error: 1.6364 - lr: 6.7032e-06\n",
            "Epoch 192/200\n",
            "6/6 [==============================] - 0s 36ms/step - loss: 1.9491 - root_mean_squared_error: 1.3961 - val_loss: 2.6946 - val_root_mean_squared_error: 1.6415 - lr: 6.6365e-06\n",
            "Epoch 193/200\n",
            "6/6 [==============================] - 0s 35ms/step - loss: 1.9337 - root_mean_squared_error: 1.3906 - val_loss: 2.8009 - val_root_mean_squared_error: 1.6736 - lr: 6.5705e-06\n",
            "Epoch 194/200\n",
            "6/6 [==============================] - 0s 27ms/step - loss: 1.9263 - root_mean_squared_error: 1.3879 - val_loss: 2.9034 - val_root_mean_squared_error: 1.7039 - lr: 6.5051e-06\n",
            "Epoch 195/200\n",
            "6/6 [==============================] - 0s 31ms/step - loss: 1.9303 - root_mean_squared_error: 1.3894 - val_loss: 2.9946 - val_root_mean_squared_error: 1.7305 - lr: 6.4404e-06\n",
            "Epoch 196/200\n",
            "6/6 [==============================] - 0s 31ms/step - loss: 1.9310 - root_mean_squared_error: 1.3896 - val_loss: 3.0213 - val_root_mean_squared_error: 1.7382 - lr: 6.3763e-06\n",
            "Epoch 197/200\n",
            "6/6 [==============================] - 0s 33ms/step - loss: 1.9115 - root_mean_squared_error: 1.3826 - val_loss: 2.9195 - val_root_mean_squared_error: 1.7087 - lr: 6.3128e-06\n",
            "Epoch 198/200\n",
            "6/6 [==============================] - 0s 30ms/step - loss: 1.8731 - root_mean_squared_error: 1.3686 - val_loss: 2.7850 - val_root_mean_squared_error: 1.6688 - lr: 6.2500e-06\n",
            "Epoch 199/200\n",
            "6/6 [==============================] - 0s 36ms/step - loss: 1.8493 - root_mean_squared_error: 1.3599 - val_loss: 2.6584 - val_root_mean_squared_error: 1.6305 - lr: 6.1878e-06\n",
            "Epoch 200/200\n",
            "6/6 [==============================] - 0s 38ms/step - loss: 1.8565 - root_mean_squared_error: 1.3625 - val_loss: 2.5978 - val_root_mean_squared_error: 1.6118 - lr: 6.1263e-06\n"
          ]
        }
      ]
    },
    {
      "cell_type": "code",
      "source": [
        "history_dict = AAPL_hist.history\n",
        "\n",
        "loss = history_dict[\"loss\"]\n",
        "root_mean_squared_error = history_dict[\"root_mean_squared_error\"]\n",
        "val_loss = history_dict[\"val_loss\"]\n",
        "val_root_mean_squared_error = history_dict[\"val_root_mean_squared_error\"]\n",
        "\n",
        "epochs = range(1, len(loss) + 1)"
      ],
      "metadata": {
        "id": "jxDJl10DVYjF"
      },
      "execution_count": 182,
      "outputs": []
    },
    {
      "cell_type": "code",
      "source": [
        "fig, (ax1, ax2) = plt.subplots(1, 2)\n",
        "\n",
        "fig.set_figheight(5)\n",
        "fig.set_figwidth(15)\n",
        "\n",
        "ax1.plot(epochs, loss, label = \"Training Loss\")\n",
        "ax1.plot(epochs, val_loss, label = \"Validation Loss\")\n",
        "ax1.set(xlabel = \"Epochs\", ylabel = \"Loss\")\n",
        "ax1.legend()\n",
        "\n",
        "ax2.plot(epochs, root_mean_squared_error, label = \"Training Root Mean Squared Error\")\n",
        "ax2.plot(epochs, val_root_mean_squared_error, label = \"Validation Root Mean Squared Error\")\n",
        "ax2.set(xlabel = \"Epochs\", ylabel = \"Loss\")\n",
        "ax2.legend()\n",
        "\n",
        "plt.show()"
      ],
      "metadata": {
        "colab": {
          "base_uri": "https://localhost:8080/",
          "height": 334
        },
        "id": "qnqO0GMsVhtu",
        "outputId": "89813826-6709-4700-fb87-02543b8e6177"
      },
      "execution_count": 183,
      "outputs": [
        {
          "output_type": "display_data",
          "data": {
            "text/plain": [
              "<Figure size 1080x360 with 2 Axes>"
            ],
            "image/png": "[encoded data removed]"
          },
          "metadata": {
            "needs_background": "light"
          }
        }
      ]
    },
    {
      "cell_type": "code",
      "source": [
        "AAPL_prediction = AAPL_Model.predict(AAPL_Test_X)\n",
        "AAPL_prediction.shape"
      ],
      "metadata": {
        "id": "_iqTKBkxVmqW",
        "colab": {
          "base_uri": "https://localhost:8080/"
        },
        "outputId": "e44335da-6333-4d4c-ce8d-ab959da1f106"
      },
      "execution_count": 184,
      "outputs": [
        {
          "output_type": "execute_result",
          "data": {
            "text/plain": [
              "(19, 5)"
            ]
          },
          "metadata": {},
          "execution_count": 184
        }
      ]
    },
    {
      "cell_type": "code",
      "source": [
        "rmse = math.sqrt(mean_squared_error(AAPL_Test_Y.reshape(-1, 5), AAPL_prediction))\n",
        "mape = np.mean(np.abs(AAPL_prediction - AAPL_Test_Y.reshape(-1, 5))/np.abs(AAPL_Test_Y.reshape(-1, 5)))\n",
        "print(f'RMSE: {rmse}')\n",
        "print(f'MAPE: {mape}')"
      ],
      "metadata": {
        "colab": {
          "base_uri": "https://localhost:8080/"
        },
        "id": "Ba-t5_8TV4ND",
        "outputId": "4038a418-15bf-4bf8-df99-10b595710d2a"
      },
      "execution_count": 185,
      "outputs": [
        {
          "output_type": "stream",
          "name": "stdout",
          "text": [
            "RMSE: 1.611780897646912\n",
            "MAPE: 0.02765831105827823\n"
          ]
        }
      ]
    },
    {
      "cell_type": "code",
      "source": [
        "plt.figure(figsize=(10, 5))\n",
        "plt.plot(AAPL['Date'][AAPL['Date'] < '2019-04-08'], AAPL['Adj Close'][AAPL['Date'] < '2019-04-08'], label = 'Training')\n",
        "plt.plot(AAPL['Date'][AAPL['Date'] >= '2019-04-04'], AAPL['Adj Close'][AAPL['Date'] >= '2019-04-04'], label = 'Testing')\n",
        "plt.plot(AAPL['Date'][AAPL['Date'] >= '2019-04-08'], AAPL_prediction.reshape(-1), label = 'Predictions')\n",
        "plt.xlabel('Time')\n",
        "plt.ylabel('Closing Price')\n",
        "plt.axvline(dt.datetime(2019,4,1), label=\"Testing start date\", color=\"black\")\n",
        "plt.axvline(dt.datetime(2019,8,22), label=\"Testing end date\", color=\"red\")\n",
        "plt.legend(loc = 'best')"
      ],
      "metadata": {
        "id": "AI_I-2bEVscu",
        "colab": {
          "base_uri": "https://localhost:8080/",
          "height": 351
        },
        "outputId": "89829e50-9e6c-419c-ff41-344839a45139"
      },
      "execution_count": 186,
      "outputs": [
        {
          "output_type": "execute_result",
          "data": {
            "text/plain": [
              "<matplotlib.legend.Legend at 0x7ff7290f1b10>"
            ]
          },
          "metadata": {},
          "execution_count": 186
        },
        {
          "output_type": "display_data",
          "data": {
            "text/plain": [
              "<Figure size 720x360 with 1 Axes>"
            ],
            "image/png": "[encoded data removed]"
          },
          "metadata": {
            "needs_background": "light"
          }
        }
      ]
    }
  ]
}